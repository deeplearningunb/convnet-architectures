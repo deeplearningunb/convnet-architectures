{
 "cells": [
  {
   "cell_type": "code",
   "execution_count": 1,
   "metadata": {},
   "outputs": [
    {
     "name": "stderr",
     "output_type": "stream",
     "text": [
      "WARNING: Logging before flag parsing goes to stderr.\n",
      "W0621 21:32:52.474859 140088957929280 __init__.py:316] Limited tf.compat.v2.summary API due to missing TensorBoard installation.\n"
     ]
    }
   ],
   "source": [
    "import numpy as np\n",
    "import random\n",
    "import matplotlib.pyplot as plt\n",
    "import tensorflow as tf\n",
    "\n",
    "%matplotlib inline"
   ]
  },
  {
   "cell_type": "code",
   "execution_count": 2,
   "metadata": {},
   "outputs": [],
   "source": [
    "from tensorflow.python.keras.layers import Conv2D, Dense, MaxPool2D, UpSampling2D\n",
    "from tensorflow.python.keras.models import Sequential\n",
    "from tensorflow.python.keras.datasets import cifar10, mnist"
   ]
  },
  {
   "cell_type": "code",
   "execution_count": 3,
   "metadata": {},
   "outputs": [],
   "source": [
    "(x_train, _), (x_test, _) = cifar10.load_data()"
   ]
  },
  {
   "cell_type": "code",
   "execution_count": 4,
   "metadata": {},
   "outputs": [
    {
     "data": {
      "text/plain": [
       "(50000, 32, 32, 3)"
      ]
     },
     "execution_count": 4,
     "metadata": {},
     "output_type": "execute_result"
    }
   ],
   "source": [
    "x_train.shape"
   ]
  },
  {
   "cell_type": "code",
   "execution_count": 5,
   "metadata": {},
   "outputs": [
    {
     "data": {
      "text/plain": [
       "(10000, 32, 32, 3)"
      ]
     },
     "execution_count": 5,
     "metadata": {},
     "output_type": "execute_result"
    }
   ],
   "source": [
    "x_test.shape"
   ]
  },
  {
   "cell_type": "code",
   "execution_count": 6,
   "metadata": {},
   "outputs": [],
   "source": [
    "x_train = x_train.astype('float32')/255\n",
    "x_test = x_test.astype('float32')/255\n",
    "# x_train = np.reshape(x_train, (len(x_train), x_train.shape[1], x_train.shape[2],x_train.shape[3]))\n",
    "# x_test = np.reshape(x_test, (len(x_test), x_test.shape[1], x_test.shape[2],x_test.shape[3]))\n",
    "\n",
    "# x_train = np.reshape(x_train, (len(x_train), x_train.shape[1], x_train.shape[2], 1))\n",
    "# x_test = np.reshape(x_test, (len(x_test), x_test.shape[1], x_test.shape[2], 1))"
   ]
  },
  {
   "cell_type": "code",
   "execution_count": 7,
   "metadata": {},
   "outputs": [
    {
     "data": {
      "text/plain": [
       "(50000, 32, 32, 3)"
      ]
     },
     "execution_count": 7,
     "metadata": {},
     "output_type": "execute_result"
    }
   ],
   "source": [
    "x_train.shape"
   ]
  },
  {
   "cell_type": "code",
   "execution_count": 8,
   "metadata": {},
   "outputs": [],
   "source": [
    "def show(image, resize=True, cmap=None, figsize=None):\n",
    "    \n",
    "    if resize is True:\n",
    "        if len(image.shape) == 3 and image.shape[2] == 3:\n",
    "            image = image.reshape(image.shape[0],image.shape[1], image.shape[2])\n",
    "        elif len(image.shape) == 3 and image.shape[2] == 1:\n",
    "            image = image.reshape(image.shape[0],image.shape[1])\n",
    "    \n",
    "    if figsize is not None:\n",
    "        plt.figure(figsize=figsize)\n",
    "    \n",
    "    \n",
    "    if cmap is not None:\n",
    "        cmap=cmap\n",
    "    else:\n",
    "        cmap=\"gray\"\n",
    "    \n",
    "    plt.imshow(image, cmap=cmap)\n",
    "    \n",
    "def return_random_image(image_list):\n",
    "    r = random.randint(0, len(image_list)-1)\n",
    "    print(r)\n",
    "    return image_list[r], r"
   ]
  },
  {
   "cell_type": "code",
   "execution_count": 9,
   "metadata": {},
   "outputs": [
    {
     "name": "stdout",
     "output_type": "stream",
     "text": [
      "597\n"
     ]
    },
    {
     "data": {
      "image/png": "[encoded data removed]",
      "text/plain": [
       "<Figure size 432x288 with 1 Axes>"
      ]
     },
     "metadata": {
      "needs_background": "light"
     },
     "output_type": "display_data"
    }
   ],
   "source": [
    "show(return_random_image(x_train)[0], cmap=None)"
   ]
  },
  {
   "cell_type": "code",
   "execution_count": 10,
   "metadata": {},
   "outputs": [
    {
     "data": {
      "text/plain": [
       "(32, 32, 3)"
      ]
     },
     "execution_count": 10,
     "metadata": {},
     "output_type": "execute_result"
    }
   ],
   "source": [
    "x_train.shape[1:]"
   ]
  },
  {
   "cell_type": "code",
   "execution_count": 11,
   "metadata": {},
   "outputs": [],
   "source": [
    "def autoencoder(input_shape):\n",
    "    model = Sequential()\n",
    "    \n",
    "    model.add(Conv2D(68, (3,3), input_shape=input_shape, activation=\"relu\", padding=\"same\"))\n",
    "    model.add(MaxPool2D((2,2), padding=\"same\"))\n",
    "    \n",
    "    model.add(Conv2D(68, (3,3), activation=\"relu\", padding=\"same\"))\n",
    "    model.add(Conv2D(68, (3,3), activation=\"relu\", padding=\"same\"))\n",
    "    model.add(Conv2D(32, (3,3), activation=\"relu\", padding=\"same\"))\n",
    "    model.add(MaxPool2D((2,2), padding=\"same\"))\n",
    "    \n",
    "    model.add(Conv2D(16, (3,3), activation=\"relu\", padding=\"same\"))\n",
    "    model.add(Conv2D(8, (3,3), activation=\"relu\", padding=\"same\", name='encoder'))\n",
    "    \n",
    "    #decoding\n",
    "    model.add(Conv2D(8, (3,3), activation=\"relu\", padding=\"same\"))    \n",
    "    model.add(Conv2D(16, (3,3), activation=\"relu\", padding=\"same\"))  \n",
    "    \n",
    "    model.add(Conv2D(32, (3,3), activation=\"relu\", padding=\"same\"))\n",
    "    model.add(UpSampling2D((2,2)))\n",
    "    \n",
    "    model.add(Conv2D(68, (3,3), activation=\"relu\", padding=\"same\"))\n",
    "    model.add(Conv2D(68, (3,3), activation=\"relu\", padding=\"same\"))    \n",
    "    \n",
    "    model.add(Conv2D(68, (3,3), activation=\"relu\", padding=\"same\"))\n",
    "    model.add(UpSampling2D((2,2)))\n",
    "    \n",
    "    model.add(Conv2D(3, (3,3), activation=\"sigmoid\", padding=\"same\"))\n",
    "    \n",
    "    return model   "
   ]
  },
  {
   "cell_type": "code",
   "execution_count": 12,
   "metadata": {},
   "outputs": [
    {
     "name": "stderr",
     "output_type": "stream",
     "text": [
      "W0621 21:33:30.534023 140088957929280 deprecation.py:506] From /home/stefanini/.virtualenvs/deep/lib/python3.7/site-packages/tensorflow_core/python/ops/resource_variable_ops.py:1624: calling BaseResourceVariable.__init__ (from tensorflow.python.ops.resource_variable_ops) with constraint is deprecated and will be removed in a future version.\n",
      "Instructions for updating:\n",
      "If using Keras pass *_constraint arguments to layers.\n",
      "W0621 21:33:30.718632 140088957929280 deprecation.py:323] From /home/stefanini/.virtualenvs/deep/lib/python3.7/site-packages/tensorflow_core/python/ops/nn_impl.py:182: add_dispatch_support.<locals>.wrapper (from tensorflow.python.ops.array_ops) is deprecated and will be removed in a future version.\n",
      "Instructions for updating:\n",
      "Use tf.where in 2.0, which has the same broadcast rule as np.where\n"
     ]
    }
   ],
   "source": [
    "autoencoder_model = autoencoder((32,32,3))\n",
    "\n",
    "autoencoder_model.compile(loss=\"binary_crossentropy\", optimizer=\"adam\", metrics=[\"mean_squared_error\"])"
   ]
  },
  {
   "cell_type": "code",
   "execution_count": 13,
   "metadata": {},
   "outputs": [
    {
     "name": "stdout",
     "output_type": "stream",
     "text": [
      "Model: \"sequential\"\n",
      "_________________________________________________________________\n",
      "Layer (type)                 Output Shape              Param #   \n",
      "=================================================================\n",
      "conv2d (Conv2D)              (None, 32, 32, 68)        1904      \n",
      "_________________________________________________________________\n",
      "max_pooling2d (MaxPooling2D) (None, 16, 16, 68)        0         \n",
      "_________________________________________________________________\n",
      "conv2d_1 (Conv2D)            (None, 16, 16, 68)        41684     \n",
      "_________________________________________________________________\n",
      "conv2d_2 (Conv2D)            (None, 16, 16, 68)        41684     \n",
      "_________________________________________________________________\n",
      "conv2d_3 (Conv2D)            (None, 16, 16, 32)        19616     \n",
      "_________________________________________________________________\n",
      "max_pooling2d_1 (MaxPooling2 (None, 8, 8, 32)          0         \n",
      "_________________________________________________________________\n",
      "conv2d_4 (Conv2D)            (None, 8, 8, 16)          4624      \n",
      "_________________________________________________________________\n",
      "encoder (Conv2D)             (None, 8, 8, 8)           1160      \n",
      "_________________________________________________________________\n",
      "conv2d_5 (Conv2D)            (None, 8, 8, 8)           584       \n",
      "_________________________________________________________________\n",
      "conv2d_6 (Conv2D)            (None, 8, 8, 16)          1168      \n",
      "_________________________________________________________________\n",
      "conv2d_7 (Conv2D)            (None, 8, 8, 32)          4640      \n",
      "_________________________________________________________________\n",
      "up_sampling2d (UpSampling2D) (None, 16, 16, 32)        0         \n",
      "_________________________________________________________________\n",
      "conv2d_8 (Conv2D)            (None, 16, 16, 68)        19652     \n",
      "_________________________________________________________________\n",
      "conv2d_9 (Conv2D)            (None, 16, 16, 68)        41684     \n",
      "_________________________________________________________________\n",
      "conv2d_10 (Conv2D)           (None, 16, 16, 68)        41684     \n",
      "_________________________________________________________________\n",
      "up_sampling2d_1 (UpSampling2 (None, 32, 32, 68)        0         \n",
      "_________________________________________________________________\n",
      "conv2d_11 (Conv2D)           (None, 32, 32, 3)         1839      \n",
      "=================================================================\n",
      "Total params: 221,923\n",
      "Trainable params: 221,923\n",
      "Non-trainable params: 0\n",
      "_________________________________________________________________\n"
     ]
    }
   ],
   "source": [
    "autoencoder_model.summary()"
   ]
  },
  {
   "cell_type": "code",
   "execution_count": 14,
   "metadata": {
    "scrolled": true
   },
   "outputs": [
    {
     "name": "stderr",
     "output_type": "stream",
     "text": [
      "W0621 21:33:57.024606 140088957929280 deprecation.py:323] From /home/stefanini/.virtualenvs/deep/lib/python3.7/site-packages/tensorflow_core/python/keras/optimizer_v2/optimizer_v2.py:460: BaseResourceVariable.constraint (from tensorflow.python.ops.resource_variable_ops) is deprecated and will be removed in a future version.\n",
      "Instructions for updating:\n",
      "Apply a constraint manually following the optimizer update step.\n"
     ]
    },
    {
     "name": "stdout",
     "output_type": "stream",
     "text": [
      "Train on 50000 samples, validate on 10000 samples\n",
      "Epoch 1/50\n",
      "50000/50000 [==============================] - 52s 1ms/sample - loss: 0.5696 - mean_squared_error: 0.0088 - val_loss: 0.5639 - val_mean_squared_error: 0.0060\n",
      "Epoch 2/50\n",
      "50000/50000 [==============================] - 52s 1ms/sample - loss: 0.5593 - mean_squared_error: 0.0048 - val_loss: 0.5595 - val_mean_squared_error: 0.0045\n",
      "Epoch 3/50\n",
      "50000/50000 [==============================] - 51s 1ms/sample - loss: 0.5568 - mean_squared_error: 0.0038 - val_loss: 0.5572 - val_mean_squared_error: 0.0035\n",
      "Epoch 4/50\n",
      "50000/50000 [==============================] - 49s 988us/sample - loss: 0.5556 - mean_squared_error: 0.0034 - val_loss: 0.5563 - val_mean_squared_error: 0.0033\n",
      "Epoch 5/50\n",
      "50000/50000 [==============================] - 49s 972us/sample - loss: 0.5550 - mean_squared_error: 0.0031 - val_loss: 0.5562 - val_mean_squared_error: 0.0032\n",
      "Epoch 6/50\n",
      "50000/50000 [==============================] - 52s 1ms/sample - loss: 0.5545 - mean_squared_error: 0.0030 - val_loss: 0.5548 - val_mean_squared_error: 0.0028\n",
      "Epoch 7/50\n",
      "50000/50000 [==============================] - 47s 947us/sample - loss: 0.5540 - mean_squared_error: 0.0028 - val_loss: 0.5545 - val_mean_squared_error: 0.0027\n",
      "Epoch 8/50\n",
      "50000/50000 [==============================] - 49s 974us/sample - loss: 0.5536 - mean_squared_error: 0.0026 - val_loss: 0.5543 - val_mean_squared_error: 0.0025\n",
      "Epoch 9/50\n",
      "50000/50000 [==============================] - 48s 966us/sample - loss: 0.5533 - mean_squared_error: 0.0025 - val_loss: 0.5539 - val_mean_squared_error: 0.0024\n",
      "Epoch 10/50\n",
      "50000/50000 [==============================] - 51s 1ms/sample - loss: 0.5530 - mean_squared_error: 0.0024 - val_loss: 0.5534 - val_mean_squared_error: 0.0022\n",
      "Epoch 11/50\n",
      "50000/50000 [==============================] - 51s 1ms/sample - loss: 0.5528 - mean_squared_error: 0.0023 - val_loss: 0.5537 - val_mean_squared_error: 0.0023\n",
      "Epoch 12/50\n",
      "50000/50000 [==============================] - 45s 904us/sample - loss: 0.5526 - mean_squared_error: 0.0022 - val_loss: 0.5530 - val_mean_squared_error: 0.0021\n",
      "Epoch 13/50\n",
      "50000/50000 [==============================] - 50s 1ms/sample - loss: 0.5524 - mean_squared_error: 0.0022 - val_loss: 0.5535 - val_mean_squared_error: 0.0023\n",
      "Epoch 14/50\n",
      "50000/50000 [==============================] - 49s 973us/sample - loss: 0.5522 - mean_squared_error: 0.0021 - val_loss: 0.5532 - val_mean_squared_error: 0.0021\n",
      "Epoch 15/50\n",
      "50000/50000 [==============================] - 49s 971us/sample - loss: 0.5521 - mean_squared_error: 0.0020 - val_loss: 0.5526 - val_mean_squared_error: 0.0019\n",
      "Epoch 16/50\n",
      "50000/50000 [==============================] - 49s 986us/sample - loss: 0.5519 - mean_squared_error: 0.0020 - val_loss: 0.5525 - val_mean_squared_error: 0.0019\n",
      "Epoch 17/50\n",
      "50000/50000 [==============================] - 48s 953us/sample - loss: 0.5519 - mean_squared_error: 0.0020 - val_loss: 0.5523 - val_mean_squared_error: 0.0018\n",
      "Epoch 18/50\n",
      "50000/50000 [==============================] - 50s 1ms/sample - loss: 0.5517 - mean_squared_error: 0.0019 - val_loss: 0.5522 - val_mean_squared_error: 0.0018\n",
      "Epoch 19/50\n",
      "50000/50000 [==============================] - 50s 994us/sample - loss: 0.5517 - mean_squared_error: 0.0019 - val_loss: 0.5524 - val_mean_squared_error: 0.0018\n",
      "Epoch 20/50\n",
      "50000/50000 [==============================] - 49s 975us/sample - loss: 0.5517 - mean_squared_error: 0.0019 - val_loss: 0.5559 - val_mean_squared_error: 0.0032\n",
      "Epoch 21/50\n",
      "50000/50000 [==============================] - 50s 999us/sample - loss: 0.5516 - mean_squared_error: 0.0019 - val_loss: 0.5521 - val_mean_squared_error: 0.0017\n",
      "Epoch 22/50\n",
      "50000/50000 [==============================] - 49s 987us/sample - loss: 0.5515 - mean_squared_error: 0.0018 - val_loss: 0.5526 - val_mean_squared_error: 0.0019\n",
      "Epoch 23/50\n",
      "50000/50000 [==============================] - 48s 960us/sample - loss: 0.5515 - mean_squared_error: 0.0018 - val_loss: 0.5520 - val_mean_squared_error: 0.0017\n",
      "Epoch 24/50\n",
      "50000/50000 [==============================] - 48s 954us/sample - loss: 0.5514 - mean_squared_error: 0.0018 - val_loss: 0.5524 - val_mean_squared_error: 0.0018\n",
      "Epoch 25/50\n",
      "50000/50000 [==============================] - 48s 962us/sample - loss: 0.5514 - mean_squared_error: 0.0018 - val_loss: 0.5518 - val_mean_squared_error: 0.0016\n",
      "Epoch 26/50\n",
      "50000/50000 [==============================] - 49s 975us/sample - loss: 0.5512 - mean_squared_error: 0.0017 - val_loss: 0.5521 - val_mean_squared_error: 0.0017\n",
      "Epoch 27/50\n",
      "50000/50000 [==============================] - 48s 955us/sample - loss: 0.5512 - mean_squared_error: 0.0017 - val_loss: 0.5521 - val_mean_squared_error: 0.0017\n",
      "Epoch 28/50\n",
      "50000/50000 [==============================] - 47s 935us/sample - loss: 0.5513 - mean_squared_error: 0.0017 - val_loss: 0.5518 - val_mean_squared_error: 0.0016\n",
      "Epoch 29/50\n",
      "50000/50000 [==============================] - 48s 960us/sample - loss: 0.5512 - mean_squared_error: 0.0017 - val_loss: 0.5524 - val_mean_squared_error: 0.0018\n",
      "Epoch 30/50\n",
      "50000/50000 [==============================] - 47s 936us/sample - loss: 0.5511 - mean_squared_error: 0.0017 - val_loss: 0.5519 - val_mean_squared_error: 0.0016\n",
      "Epoch 31/50\n",
      "50000/50000 [==============================] - 47s 934us/sample - loss: 0.5512 - mean_squared_error: 0.0017 - val_loss: 0.5518 - val_mean_squared_error: 0.0016\n",
      "Epoch 32/50\n",
      "50000/50000 [==============================] - 46s 919us/sample - loss: 0.5511 - mean_squared_error: 0.0017 - val_loss: 0.5527 - val_mean_squared_error: 0.0019\n",
      "Epoch 33/50\n",
      "50000/50000 [==============================] - 49s 981us/sample - loss: 0.5512 - mean_squared_error: 0.0017 - val_loss: 0.5518 - val_mean_squared_error: 0.0016\n",
      "Epoch 34/50\n",
      "50000/50000 [==============================] - 48s 951us/sample - loss: 0.5511 - mean_squared_error: 0.0017 - val_loss: 0.5521 - val_mean_squared_error: 0.0017\n",
      "Epoch 35/50\n",
      "50000/50000 [==============================] - 50s 998us/sample - loss: 0.5510 - mean_squared_error: 0.0016 - val_loss: 0.5519 - val_mean_squared_error: 0.0016\n",
      "Epoch 36/50\n",
      "50000/50000 [==============================] - 47s 939us/sample - loss: 0.5511 - mean_squared_error: 0.0017 - val_loss: 0.5517 - val_mean_squared_error: 0.0015\n",
      "Epoch 37/50\n",
      "50000/50000 [==============================] - 46s 911us/sample - loss: 0.5510 - mean_squared_error: 0.0016 - val_loss: 0.5517 - val_mean_squared_error: 0.0016\n",
      "Epoch 38/50\n",
      "50000/50000 [==============================] - 46s 913us/sample - loss: 0.5510 - mean_squared_error: 0.0016 - val_loss: 0.5515 - val_mean_squared_error: 0.0015\n",
      "Epoch 39/50\n",
      "50000/50000 [==============================] - 46s 910us/sample - loss: 0.5510 - mean_squared_error: 0.0016 - val_loss: 0.5517 - val_mean_squared_error: 0.0016\n",
      "Epoch 40/50\n",
      "50000/50000 [==============================] - 46s 917us/sample - loss: 0.5510 - mean_squared_error: 0.0016 - val_loss: 0.5521 - val_mean_squared_error: 0.0017\n",
      "Epoch 41/50\n",
      "50000/50000 [==============================] - 47s 945us/sample - loss: 0.5510 - mean_squared_error: 0.0016 - val_loss: 0.5532 - val_mean_squared_error: 0.0021\n",
      "Epoch 42/50\n",
      "50000/50000 [==============================] - 45s 902us/sample - loss: 0.5510 - mean_squared_error: 0.0016 - val_loss: 0.5517 - val_mean_squared_error: 0.0016\n",
      "Epoch 43/50\n",
      "50000/50000 [==============================] - 45s 902us/sample - loss: 0.5510 - mean_squared_error: 0.0016 - val_loss: 0.5518 - val_mean_squared_error: 0.0016\n",
      "Epoch 44/50\n",
      "50000/50000 [==============================] - 45s 895us/sample - loss: 0.5510 - mean_squared_error: 0.0016 - val_loss: 0.5522 - val_mean_squared_error: 0.0017\n",
      "Epoch 45/50\n",
      "50000/50000 [==============================] - 44s 872us/sample - loss: 0.5510 - mean_squared_error: 0.0016 - val_loss: 0.5522 - val_mean_squared_error: 0.0017\n",
      "Epoch 46/50\n",
      "50000/50000 [==============================] - 46s 910us/sample - loss: 0.5509 - mean_squared_error: 0.0016 - val_loss: 0.5518 - val_mean_squared_error: 0.0016\n",
      "Epoch 47/50\n",
      "50000/50000 [==============================] - 45s 890us/sample - loss: 0.5509 - mean_squared_error: 0.0016 - val_loss: 0.5520 - val_mean_squared_error: 0.0017\n",
      "Epoch 48/50\n"
     ]
    },
    {
     "name": "stdout",
     "output_type": "stream",
     "text": [
      "50000/50000 [==============================] - 50s 1ms/sample - loss: 0.5509 - mean_squared_error: 0.0016 - val_loss: 0.5533 - val_mean_squared_error: 0.0022\n",
      "Epoch 49/50\n",
      "50000/50000 [==============================] - 51s 1ms/sample - loss: 0.5510 - mean_squared_error: 0.0016 - val_loss: 0.5517 - val_mean_squared_error: 0.0015\n",
      "Epoch 50/50\n",
      "50000/50000 [==============================] - 52s 1ms/sample - loss: 0.5509 - mean_squared_error: 0.0016 - val_loss: 0.5521 - val_mean_squared_error: 0.0017\n"
     ]
    },
    {
     "data": {
      "text/plain": [
       "<tensorflow.python.keras.callbacks.History at 0x7f6879038320>"
      ]
     },
     "execution_count": 14,
     "metadata": {},
     "output_type": "execute_result"
    }
   ],
   "source": [
    "autoencoder_model.fit(\n",
    "    x_train, x_train,\n",
    "    batch_size=8,\n",
    "    epochs=50,\n",
    "    validation_data=(x_test, x_test)\n",
    ")"
   ]
  },
  {
   "cell_type": "code",
   "execution_count": 15,
   "metadata": {},
   "outputs": [],
   "source": [
    "autoencoder_model.save(\"autoencoder_cifar10.h5\")"
   ]
  },
  {
   "cell_type": "code",
   "execution_count": 16,
   "metadata": {},
   "outputs": [],
   "source": [
    "predictions = autoencoder_model.predict(x_test)"
   ]
  },
  {
   "cell_type": "code",
   "execution_count": 17,
   "metadata": {},
   "outputs": [
    {
     "name": "stdout",
     "output_type": "stream",
     "text": [
      "8257\n"
     ]
    },
    {
     "data": {
      "image/png": "[encoded data removed]",
      "text/plain": [
       "<Figure size 432x288 with 1 Axes>"
      ]
     },
     "metadata": {
      "needs_background": "light"
     },
     "output_type": "display_data"
    },
    {
     "data": {
      "image/png": "[encoded data removed]",
      "text/plain": [
       "<Figure size 432x288 with 1 Axes>"
      ]
     },
     "metadata": {
      "needs_background": "light"
     },
     "output_type": "display_data"
    }
   ],
   "source": [
    "image, index = return_random_image(predictions)\n",
    "show(image)\n",
    "plt.show()\n",
    "show(x_test[index])\n",
    "plt.show()"
   ]
  },
  {
   "cell_type": "code",
   "execution_count": 19,
   "metadata": {},
   "outputs": [],
   "source": [
    "from tensorflow.keras.models import Model"
   ]
  },
  {
   "cell_type": "code",
   "execution_count": 20,
   "metadata": {},
   "outputs": [],
   "source": [
    "encoder = Model(inputs=autoencoder_model.input, outputs=autoencoder_model.get_layer(\"encoder\").output)"
   ]
  },
  {
   "cell_type": "code",
   "execution_count": 21,
   "metadata": {},
   "outputs": [],
   "source": [
    "encoder.save(\"encoder.h5\")"
   ]
  }
 ],
 "metadata": {
  "kernelspec": {
   "display_name": "Python 3",
   "language": "python",
   "name": "python3"
  },
  "language_info": {
   "codemirror_mode": {
    "name": "ipython",
    "version": 3
   },
   "file_extension": ".py",
   "mimetype": "text/x-python",
   "name": "python",
   "nbconvert_exporter": "python",
   "pygments_lexer": "ipython3",
   "version": "3.7.3"
  }
 },
 "nbformat": 4,
 "nbformat_minor": 2
}
